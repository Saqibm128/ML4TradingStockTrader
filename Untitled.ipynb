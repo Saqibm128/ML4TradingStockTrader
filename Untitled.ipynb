{
 "cells": [
  {
   "cell_type": "code",
   "execution_count": 140,
   "metadata": {},
   "outputs": [],
   "source": [
    "import os, sys\n",
    "sys.path.append(os.path.realpath(\"/home/saqibm128/miniconda3/envs/py37/lib/python3.7/site-packages/\"))\n",
    "sys.path.append(os.path.realpath(\"/home/saqibm128/miniconda3/envs/py37/lib/python3.7/site-packages/iexfinance-0.4.0-py3.7.egg\"))\n",
    "from iexfinance.stocks import Stock"
   ]
  },
  {
   "cell_type": "code",
   "execution_count": 141,
   "metadata": {},
   "outputs": [],
   "source": [
    "from importlib import reload"
   ]
  },
  {
   "cell_type": "code",
   "execution_count": 142,
   "metadata": {},
   "outputs": [
    {
     "data": {
      "text/plain": [
       "<module 'server.util' from '/mnt/c/Users/sawer/src/ML4TradingStockTrader/server/util.py'>"
      ]
     },
     "execution_count": 142,
     "metadata": {},
     "output_type": "execute_result"
    }
   ],
   "source": [
    "import server.util as util\n",
    "import pandas as pd\n",
    "reload(util)"
   ]
  },
  {
   "cell_type": "code",
   "execution_count": 143,
   "metadata": {},
   "outputs": [],
   "source": [
    "import pandas as pd\n",
    "import numpy as np\n",
    "import datetime as dt\n",
    "import os\n",
    "from server.util import get_data"
   ]
  },
  {
   "cell_type": "code",
   "execution_count": 176,
   "metadata": {},
   "outputs": [],
   "source": [
    "from server import marketsimcode as mksim"
   ]
  },
  {
   "cell_type": "code",
   "execution_count": 186,
   "metadata": {},
   "outputs": [
    {
     "data": {
      "text/html": [
       "<div>\n",
       "<style scoped>\n",
       "    .dataframe tbody tr th:only-of-type {\n",
       "        vertical-align: middle;\n",
       "    }\n",
       "\n",
       "    .dataframe tbody tr th {\n",
       "        vertical-align: top;\n",
       "    }\n",
       "\n",
       "    .dataframe thead th {\n",
       "        text-align: right;\n",
       "    }\n",
       "</style>\n",
       "<table border=\"1\" class=\"dataframe\">\n",
       "  <thead>\n",
       "    <tr style=\"text-align: right;\">\n",
       "      <th></th>\n",
       "      <th>GOOG</th>\n",
       "    </tr>\n",
       "  </thead>\n",
       "  <tbody>\n",
       "    <tr>\n",
       "      <th>2010-01-01</th>\n",
       "      <td>0.0</td>\n",
       "    </tr>\n",
       "    <tr>\n",
       "      <th>2010-01-02</th>\n",
       "      <td>0.0</td>\n",
       "    </tr>\n",
       "    <tr>\n",
       "      <th>2010-01-03</th>\n",
       "      <td>0.0</td>\n",
       "    </tr>\n",
       "    <tr>\n",
       "      <th>2010-01-04</th>\n",
       "      <td>0.0</td>\n",
       "    </tr>\n",
       "    <tr>\n",
       "      <th>2010-01-05</th>\n",
       "      <td>0.0</td>\n",
       "    </tr>\n",
       "    <tr>\n",
       "      <th>2010-01-06</th>\n",
       "      <td>-0.0</td>\n",
       "    </tr>\n",
       "    <tr>\n",
       "      <th>2010-01-07</th>\n",
       "      <td>100.0</td>\n",
       "    </tr>\n",
       "    <tr>\n",
       "      <th>2010-01-08</th>\n",
       "      <td>-0.0</td>\n",
       "    </tr>\n",
       "    <tr>\n",
       "      <th>2010-01-09</th>\n",
       "      <td>0.0</td>\n",
       "    </tr>\n",
       "    <tr>\n",
       "      <th>2010-01-10</th>\n",
       "      <td>0.0</td>\n",
       "    </tr>\n",
       "    <tr>\n",
       "      <th>2010-01-11</th>\n",
       "      <td>0.0</td>\n",
       "    </tr>\n",
       "    <tr>\n",
       "      <th>2010-01-12</th>\n",
       "      <td>-0.0</td>\n",
       "    </tr>\n",
       "    <tr>\n",
       "      <th>2010-01-13</th>\n",
       "      <td>-0.0</td>\n",
       "    </tr>\n",
       "    <tr>\n",
       "      <th>2010-01-14</th>\n",
       "      <td>-100.0</td>\n",
       "    </tr>\n",
       "  </tbody>\n",
       "</table>\n",
       "</div>"
      ],
      "text/plain": [
       "             GOOG\n",
       "2010-01-01    0.0\n",
       "2010-01-02    0.0\n",
       "2010-01-03    0.0\n",
       "2010-01-04    0.0\n",
       "2010-01-05    0.0\n",
       "2010-01-06   -0.0\n",
       "2010-01-07  100.0\n",
       "2010-01-08   -0.0\n",
       "2010-01-09    0.0\n",
       "2010-01-10    0.0\n",
       "2010-01-11    0.0\n",
       "2010-01-12   -0.0\n",
       "2010-01-13   -0.0\n",
       "2010-01-14 -100.0"
      ]
     },
     "execution_count": 186,
     "metadata": {},
     "output_type": "execute_result"
    }
   ],
   "source": [
    "of.fillna(0).iloc[0:14]"
   ]
  },
  {
   "cell_type": "code",
   "execution_count": 185,
   "metadata": {},
   "outputs": [
    {
     "data": {
      "text/plain": [
       "(                  GOOG\n",
       " 2010-01-01      0.0000\n",
       " 2010-01-02      0.0000\n",
       " 2010-01-03      0.0000\n",
       " 2010-01-04      0.0000\n",
       " 2010-01-05      0.0000\n",
       " 2010-01-06      0.0000\n",
       " 2010-01-07  30273.1018\n",
       " 2010-01-08      0.0000\n",
       " 2010-01-09      0.0000\n",
       " 2010-01-10      0.0000\n",
       " 2010-01-11      0.0000\n",
       " 2010-01-12      0.0000\n",
       " 2010-01-13      0.0000\n",
       " 2010-01-14 -29006.3416, 2010-01-01    1.000000e+06\n",
       " 2010-01-02    1.000000e+06\n",
       " 2010-01-03    1.000000e+06\n",
       " 2010-01-04    1.000000e+06\n",
       " 2010-01-05    1.000000e+06\n",
       " 2010-01-06    1.000000e+06\n",
       " 2010-01-07    1.000000e+06\n",
       " 2010-01-08    1.000864e+06\n",
       " 2010-01-09    1.030273e+06\n",
       " 2010-01-10    1.030273e+06\n",
       " 2010-01-11    1.000245e+06\n",
       " 2010-01-12    1.000584e+06\n",
       " 2010-01-13    1.001635e+06\n",
       " 2010-01-14    1.001267e+06\n",
       " dtype: float64)"
      ]
     },
     "execution_count": 185,
     "metadata": {},
     "output_type": "execute_result"
    }
   ],
   "source": [
    "mksim.compute_portvals(of.fillna(0).iloc[0:14], commission=0, impact=0)"
   ]
  },
  {
   "cell_type": "code",
   "execution_count": 177,
   "metadata": {},
   "outputs": [],
   "source": [
    "of = \"./orders/orders.csv\"\n",
    "\n",
    "of = pd.read_csv(of, index_col=0)\n",
    "of.index = pd.to_datetime(of.index)\n",
    "\n",
    "sv = 1000000"
   ]
  },
  {
   "cell_type": "code",
   "execution_count": 163,
   "metadata": {},
   "outputs": [],
   "source": [
    "orders = of.dropna()\n",
    "start_val = 100000\n",
    "commission = .01\n",
    "impact = 0.05\n",
    "symbols = orders.columns\n",
    "symbolData = get_data(symbols, pd.date_range(orders.index[0], orders.index[-1]), addSPY=False)\n",
    "# print(pd.isnull(symbolData).any())\n",
    "symbolData = symbolData.fillna(method=\"ffill\").fillna(method=\"bfill\")\n",
    "rv = pd.DataFrame(index=symbolData.index, columns=symbols)\n",
    "portfolio = pd.Series([0 for symbol in symbols], index=symbols)\n"
   ]
  },
  {
   "cell_type": "code",
   "execution_count": 189,
   "metadata": {},
   "outputs": [
    {
     "data": {
      "text/plain": [
       "2010-01-04           NaN\n",
       "2010-01-05    311.449310\n",
       "2010-01-06    311.563568\n",
       "2010-01-07    310.907837\n",
       "2010-01-08    302.731018\n",
       "2010-01-11    294.087250\n",
       "2010-01-12    300.276978\n",
       "2010-01-13    296.893982\n",
       "2010-01-14    286.382355\n",
       "2010-01-15    290.063416\n",
       "2010-01-19    294.752930\n",
       "2010-01-20    288.722137\n",
       "2010-01-21    291.096710\n",
       "2010-01-22    289.834900\n",
       "2010-01-25    280.426086\n",
       "2010-01-26    271.528961\n",
       "2010-01-27    267.246826\n",
       "2010-01-28    268.886169\n",
       "2010-01-29    270.485748\n",
       "2010-02-01    267.505127\n",
       "2010-02-02    265.572693\n",
       "2010-02-03    265.751556\n",
       "2010-02-04    262.626862\n",
       "2010-02-05    266.764954\n",
       "2010-02-08    262.492737\n",
       "2010-02-09    264.529480\n",
       "2010-02-10    268.026733\n",
       "2010-02-11    265.309418\n",
       "2010-02-12    264.936829\n",
       "2010-02-16    264.762970\n",
       "                 ...    \n",
       "2011-11-17    304.062378\n",
       "2011-11-18    303.053925\n",
       "2011-11-21    299.054932\n",
       "2011-11-22    291.980957\n",
       "2011-11-23    288.126007\n",
       "2011-11-25    285.816040\n",
       "2011-11-28    280.768860\n",
       "2011-11-29    287.813049\n",
       "2011-11-30    292.040558\n",
       "2011-12-01    297.043030\n",
       "2011-12-02    298.061401\n",
       "2011-12-05    306.531311\n",
       "2011-12-06    311.792084\n",
       "2011-12-07    309.482117\n",
       "2011-12-08    308.831360\n",
       "2011-12-09    308.513428\n",
       "2011-12-12    307.003235\n",
       "2011-12-13    308.930695\n",
       "2011-12-14    312.348480\n",
       "2011-12-15    308.915802\n",
       "2011-12-16    309.248627\n",
       "2011-12-19    310.142822\n",
       "2011-12-20    311.975891\n",
       "2011-12-21    311.970917\n",
       "2011-12-22    312.969421\n",
       "2011-12-23    311.946106\n",
       "2011-12-27    313.958008\n",
       "2011-12-28    313.982849\n",
       "2011-12-29    319.298279\n",
       "2011-12-30    318.672333\n",
       "Name: GOOG, Length: 504, dtype: float64"
      ]
     },
     "execution_count": 189,
     "metadata": {},
     "output_type": "execute_result"
    }
   ],
   "source": [
    "symbolData[\"GOOG\"].shift(1)"
   ]
  },
  {
   "cell_type": "code",
   "execution_count": 171,
   "metadata": {},
   "outputs": [],
   "source": [
    "portVal = (orders * symbolData).sum(axis=1)"
   ]
  },
  {
   "cell_type": "code",
   "execution_count": 172,
   "metadata": {},
   "outputs": [],
   "source": [
    "portVal.iloc[0] += start_val"
   ]
  },
  {
   "cell_type": "code",
   "execution_count": 174,
   "metadata": {},
   "outputs": [
    {
     "data": {
      "text/plain": [
       "2010-01-04    100000.000\n",
       "2010-01-05    100000.000\n",
       "2010-01-06     99312.839\n",
       "2010-01-07     90760.307\n",
       "2010-01-08     81909.395\n",
       "2010-01-11     75362.523\n",
       "2010-01-12     79261.234\n",
       "2010-01-13     68561.037\n",
       "2010-01-14     64559.976\n",
       "2010-01-15     69366.631\n",
       "2010-01-19     75768.851\n",
       "2010-01-20     72454.278\n",
       "2010-01-21     70788.181\n",
       "2010-01-22     80954.136\n",
       "2010-01-25     71447.010\n",
       "2010-01-26     67656.304\n",
       "2010-01-27     65888.391\n",
       "2010-01-28     67213.686\n",
       "2010-01-29     70744.308\n",
       "2010-02-01     67567.588\n",
       "2010-02-02     66883.010\n",
       "2010-02-03     70113.419\n",
       "2010-02-04     65752.469\n",
       "2010-02-05     60894.538\n",
       "2010-02-08     58420.652\n",
       "2010-02-09     62022.189\n",
       "2010-02-10     64815.218\n",
       "2010-02-11     65332.092\n",
       "2010-02-12     65044.523\n",
       "2010-02-16     62559.971\n",
       "                 ...    \n",
       "2011-11-17   -255425.068\n",
       "2011-11-18   -260146.919\n",
       "2011-11-21   -268438.034\n",
       "2011-11-22   -272204.415\n",
       "2011-11-23   -274015.812\n",
       "2011-11-25   -279932.991\n",
       "2011-11-28   -272327.374\n",
       "2011-11-29   -267601.292\n",
       "2011-11-30   -273382.336\n",
       "2011-12-01   -274579.277\n",
       "2011-12-02   -265067.939\n",
       "2011-12-05   -259284.309\n",
       "2011-12-06   -256834.343\n",
       "2011-12-07   -255815.014\n",
       "2011-12-08   -255714.226\n",
       "2011-12-09   -257024.419\n",
       "2011-12-12   -258784.735\n",
       "2011-12-13   -255178.378\n",
       "2011-12-14   -259511.054\n",
       "2011-12-15   -259659.659\n",
       "2011-12-16   -259189.750\n",
       "2011-12-19   -257055.251\n",
       "2011-12-20   -256304.511\n",
       "2011-12-21   -254030.296\n",
       "2011-12-22   -255009.322\n",
       "2011-12-23   -257405.509\n",
       "2011-12-27   -257917.490\n",
       "2011-12-28   -263774.352\n",
       "2011-12-29   -264898.871\n",
       "2011-12-30   -265177.892\n",
       "Length: 504, dtype: float64"
      ]
     },
     "execution_count": 174,
     "metadata": {},
     "output_type": "execute_result"
    }
   ],
   "source": [
    "portVal.cumsum() - (orders.cumsum() * symbolData).sum(axis=1)"
   ]
  },
  {
   "cell_type": "code",
   "execution_count": 147,
   "metadata": {},
   "outputs": [
    {
     "name": "stdout",
     "output_type": "stream",
     "text": [
      "AAPL\n",
      "IBM\n",
      "GOOG\n",
      "XOM\n"
     ]
    }
   ],
   "source": [
    "for symbol in symbols:\n",
    "    print(symbol)\n",
    "    df = ((gb.get_group(symbol)[\"Shares\"] * symbolData[symbol]))\n",
    "    rv[symbol] = df"
   ]
  },
  {
   "cell_type": "code",
   "execution_count": 148,
   "metadata": {},
   "outputs": [
    {
     "data": {
      "text/plain": [
       "DatetimeIndex([], dtype='datetime64[ns]', freq=None)"
      ]
     },
     "execution_count": 148,
     "metadata": {},
     "output_type": "execute_result"
    }
   ],
   "source": [
    "df.index[df.index.duplicated()]"
   ]
  },
  {
   "cell_type": "code",
   "execution_count": 153,
   "metadata": {},
   "outputs": [
    {
     "data": {
      "text/plain": [
       "2011-01-10    1.726064e+05\n",
       "2011-01-11    1.726064e+05\n",
       "2011-01-12    1.726064e+05\n",
       "2011-01-13    6.956036e+05\n",
       "2011-01-14    6.956036e+05\n",
       "2011-01-18    6.956036e+05\n",
       "2011-01-19    6.956036e+05\n",
       "2011-01-20    6.956036e+05\n",
       "2011-01-21    6.956036e+05\n",
       "2011-01-24    6.956036e+05\n",
       "2011-01-25    6.956036e+05\n",
       "2011-01-26    1.003764e+06\n",
       "2011-01-27    1.003764e+06\n",
       "2011-01-28    1.003764e+06\n",
       "2011-01-31    1.003764e+06\n",
       "2011-02-01    1.003764e+06\n",
       "2011-02-02    6.694043e+05\n",
       "2011-02-03    6.694043e+05\n",
       "2011-02-04    6.694043e+05\n",
       "2011-02-07    6.694043e+05\n",
       "2011-02-08    6.694043e+05\n",
       "2011-02-09    6.694043e+05\n",
       "2011-02-10    9.961243e+05\n",
       "2011-02-11    9.961243e+05\n",
       "2011-02-14    9.961243e+05\n",
       "2011-02-15    9.961243e+05\n",
       "2011-02-16    9.961243e+05\n",
       "2011-02-17    9.961243e+05\n",
       "2011-02-18    9.961243e+05\n",
       "2011-02-22    9.961243e+05\n",
       "                  ...     \n",
       "2011-11-15   -1.953385e+05\n",
       "2011-11-16   -1.953385e+05\n",
       "2011-11-17   -1.953385e+05\n",
       "2011-11-18   -1.953385e+05\n",
       "2011-11-21   -1.953385e+05\n",
       "2011-11-22   -1.953385e+05\n",
       "2011-11-23   -1.953385e+05\n",
       "2011-11-25   -1.953385e+05\n",
       "2011-11-28   -1.953385e+05\n",
       "2011-11-29   -1.953385e+05\n",
       "2011-11-30   -1.953385e+05\n",
       "2011-12-01   -1.953385e+05\n",
       "2011-12-02   -1.953385e+05\n",
       "2011-12-05   -1.953385e+05\n",
       "2011-12-06   -1.953385e+05\n",
       "2011-12-07   -1.953385e+05\n",
       "2011-12-08   -1.953385e+05\n",
       "2011-12-09   -1.953385e+05\n",
       "2011-12-12   -1.953385e+05\n",
       "2011-12-13   -1.953385e+05\n",
       "2011-12-14   -1.953385e+05\n",
       "2011-12-15   -1.953385e+05\n",
       "2011-12-16   -1.953385e+05\n",
       "2011-12-19   -1.953385e+05\n",
       "2011-12-20   -2.618116e+05\n",
       "2011-12-21   -2.606782e+05\n",
       "2011-12-22   -2.606782e+05\n",
       "2011-12-23   -2.606782e+05\n",
       "2011-12-27    4.300841e+05\n",
       "2011-12-28    2.266606e+04\n",
       "Length: 245, dtype: float64"
      ]
     },
     "execution_count": 153,
     "metadata": {},
     "output_type": "execute_result"
    }
   ],
   "source": [
    "portVal = rv.fillna(0).sum(axis=1)\n",
    "portVal.iloc[0] += 100000\n",
    "portVal.cumsum()"
   ]
  }
 ],
 "metadata": {
  "kernelspec": {
   "display_name": "Python 3",
   "language": "python",
   "name": "python3"
  },
  "language_info": {
   "codemirror_mode": {
    "name": "ipython",
    "version": 3
   },
   "file_extension": ".py",
   "mimetype": "text/x-python",
   "name": "python",
   "nbconvert_exporter": "python",
   "pygments_lexer": "ipython3",
   "version": "3.7.1"
  }
 },
 "nbformat": 4,
 "nbformat_minor": 2
}
